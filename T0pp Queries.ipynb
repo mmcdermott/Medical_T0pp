{
 "cells": [
  {
   "cell_type": "code",
   "execution_count": 1,
   "id": "007500e3",
   "metadata": {},
   "outputs": [
    {
     "data": {
      "application/vnd.jupyter.widget-view+json": {
       "model_id": "cf07f0ae3ca04e2a8c7dc2c0574efacd",
       "version_major": 2,
       "version_minor": 0
      },
      "text/plain": [
       "Downloading:   0%|          | 0.00/44.5G [00:00<?, ?B/s]"
      ]
     },
     "metadata": {},
     "output_type": "display_data"
    }
   ],
   "source": [
    "from transformers import AutoTokenizer, AutoModelForSeq2SeqLM\n",
    "\n",
    "tokenizer = AutoTokenizer.from_pretrained(\"bigscience/T0pp\")\n",
    "model = AutoModelForSeq2SeqLM.from_pretrained(\"bigscience/T0pp\")"
   ]
  },
  {
   "cell_type": "code",
   "execution_count": 3,
   "id": "e6327ca3",
   "metadata": {},
   "outputs": [],
   "source": [
    "import torch"
   ]
  },
  {
   "cell_type": "markdown",
   "id": "47cf6a17",
   "metadata": {},
   "source": [
    "# What can it do?"
   ]
  },
  {
   "cell_type": "markdown",
   "id": "62a3da2c",
   "metadata": {},
   "source": [
    "## Identify disease - drug associations"
   ]
  },
  {
   "cell_type": "code",
   "execution_count": 37,
   "id": "7ec1524f",
   "metadata": {},
   "outputs": [
    {
     "name": "stdout",
     "output_type": "stream",
     "text": [
      "['<pad> Ativan</s>']\n"
     ]
    }
   ],
   "source": [
    "query = [\n",
    "    \"The patient took what medicine for their insomnia: Zoloft or Ativan?\"\n",
    "]\n",
    "query_input_ids = tokenizer(query, return_tensors=\"pt\").input_ids\n",
    "\n",
    "output = model.generate(input_ids = query_input_ids)\n",
    "answer = tokenizer.batch_decode(output)\n",
    "\n",
    "print(answer)"
   ]
  },
  {
   "cell_type": "code",
   "execution_count": 51,
   "id": "2ef100bd",
   "metadata": {},
   "outputs": [
    {
     "name": "stdout",
     "output_type": "stream",
     "text": [
      "['<pad> Ativan</s>']\n"
     ]
    }
   ],
   "source": [
    "query = [\n",
    "    \"The patient took what medicine for their insomnia: Ativan or Zoloft?\"\n",
    "]\n",
    "query_input_ids = tokenizer(query, return_tensors=\"pt\").input_ids\n",
    "\n",
    "output = model.generate(input_ids = query_input_ids)\n",
    "answer = tokenizer.batch_decode(output)\n",
    "\n",
    "print(answer)"
   ]
  },
  {
   "cell_type": "code",
   "execution_count": 38,
   "id": "6668cf49",
   "metadata": {},
   "outputs": [
    {
     "name": "stdout",
     "output_type": "stream",
     "text": [
      "['<pad> Zoloft</s>']\n"
     ]
    }
   ],
   "source": [
    "query = [\n",
    "    \"The patient took what medicine for their depression: Zoloft or Methotrexate?\"\n",
    "]\n",
    "query_input_ids = tokenizer(query, return_tensors=\"pt\").input_ids\n",
    "\n",
    "output = model.generate(input_ids = query_input_ids)\n",
    "answer = tokenizer.batch_decode(output)\n",
    "\n",
    "print(answer)"
   ]
  },
  {
   "cell_type": "code",
   "execution_count": 57,
   "id": "59981e14",
   "metadata": {},
   "outputs": [
    {
     "name": "stdout",
     "output_type": "stream",
     "text": [
      "['<pad> Zoloft</s>']\n"
     ]
    }
   ],
   "source": [
    "query = [\n",
    "    \"The patient took what medicine for their depression: Methotrexate or Zoloft?\"\n",
    "]\n",
    "query_input_ids = tokenizer(query, return_tensors=\"pt\").input_ids\n",
    "\n",
    "output = model.generate(input_ids = query_input_ids)\n",
    "answer = tokenizer.batch_decode(output)\n",
    "\n",
    "print(answer)"
   ]
  },
  {
   "cell_type": "code",
   "execution_count": 39,
   "id": "0a043833",
   "metadata": {},
   "outputs": [
    {
     "name": "stdout",
     "output_type": "stream",
     "text": [
      "['<pad> Simponi</s>']\n"
     ]
    }
   ],
   "source": [
    "query = [\n",
    "    \"The patient took what medicine for their autoimmune disease: Zolpidem or Simponi?\"\n",
    "]\n",
    "query_input_ids = tokenizer(query, return_tensors=\"pt\").input_ids\n",
    "\n",
    "output = model.generate(input_ids = query_input_ids)\n",
    "answer = tokenizer.batch_decode(output)\n",
    "\n",
    "print(answer)"
   ]
  },
  {
   "cell_type": "code",
   "execution_count": 58,
   "id": "a3162b19",
   "metadata": {},
   "outputs": [
    {
     "name": "stdout",
     "output_type": "stream",
     "text": [
      "['<pad> Simponi</s>']\n"
     ]
    }
   ],
   "source": [
    "query = [\n",
    "    \"The patient took what medicine for their autoimmune disease: Simponi or Zolpidem?\"\n",
    "]\n",
    "query_input_ids = tokenizer(query, return_tensors=\"pt\").input_ids\n",
    "\n",
    "output = model.generate(input_ids = query_input_ids)\n",
    "answer = tokenizer.batch_decode(output)\n",
    "\n",
    "print(answer)"
   ]
  },
  {
   "cell_type": "markdown",
   "id": "0b7190de",
   "metadata": {},
   "source": [
    "### General Medical Knowledge"
   ]
  },
  {
   "cell_type": "code",
   "execution_count": 72,
   "id": "11572d0a",
   "metadata": {},
   "outputs": [
    {
     "name": "stdout",
     "output_type": "stream",
     "text": [
      "['<pad> 101 °F</s>']\n"
     ]
    }
   ],
   "source": [
    "query = [\n",
    "    \"At what temperature would I have a fever? 101 °F or 98 °F?\"\n",
    "]\n",
    "query_input_ids = tokenizer(query, return_tensors=\"pt\").input_ids\n",
    "\n",
    "output = model.generate(input_ids = query_input_ids)\n",
    "answer = tokenizer.batch_decode(output)\n",
    "\n",
    "print(answer)"
   ]
  },
  {
   "cell_type": "code",
   "execution_count": 71,
   "id": "0405f47f",
   "metadata": {},
   "outputs": [
    {
     "name": "stdout",
     "output_type": "stream",
     "text": [
      "['<pad> 101 °F</s>']\n"
     ]
    }
   ],
   "source": [
    "query = [\n",
    "    \"At what temperature would I have a fever? 98 °F or 101 °F?\"\n",
    "]\n",
    "query_input_ids = tokenizer(query, return_tensors=\"pt\").input_ids\n",
    "\n",
    "output = model.generate(input_ids = query_input_ids)\n",
    "answer = tokenizer.batch_decode(output)\n",
    "\n",
    "print(answer)"
   ]
  },
  {
   "cell_type": "code",
   "execution_count": 65,
   "id": "1bf76e6c",
   "metadata": {},
   "outputs": [
    {
     "name": "stdout",
     "output_type": "stream",
     "text": [
      "['<pad> take a look at the cut and see if it is red and swollen']\n"
     ]
    }
   ],
   "source": [
    "query = [\n",
    "    \"I got a cut on my arm. How can I tell if it is infected?\"\n",
    "]\n",
    "query_input_ids = tokenizer(query, return_tensors=\"pt\").input_ids\n",
    "\n",
    "output = model.generate(input_ids = query_input_ids)\n",
    "answer = tokenizer.batch_decode(output)\n",
    "\n",
    "print(answer)"
   ]
  },
  {
   "cell_type": "code",
   "execution_count": 69,
   "id": "b1e1427c",
   "metadata": {},
   "outputs": [
    {
     "name": "stdout",
     "output_type": "stream",
     "text": [
      "['<pad> dehydration</s>']\n"
     ]
    }
   ],
   "source": [
    "query = [\n",
    "    \"What do I need to watch out for if I have diarrhea? dehydration or infection?\"\n",
    "]\n",
    "query_input_ids = tokenizer(query, return_tensors=\"pt\").input_ids\n",
    "\n",
    "output = model.generate(input_ids = query_input_ids)\n",
    "answer = tokenizer.batch_decode(output)\n",
    "\n",
    "print(answer)"
   ]
  },
  {
   "cell_type": "code",
   "execution_count": 70,
   "id": "96769440",
   "metadata": {},
   "outputs": [
    {
     "name": "stdout",
     "output_type": "stream",
     "text": [
      "['<pad> dehydration</s>']\n"
     ]
    }
   ],
   "source": [
    "query = [\n",
    "    \"What do I need to watch out for if I have diarrhea? infection or dehydration?\"\n",
    "]\n",
    "query_input_ids = tokenizer(query, return_tensors=\"pt\").input_ids\n",
    "\n",
    "output = model.generate(input_ids = query_input_ids)\n",
    "answer = tokenizer.batch_decode(output)\n",
    "\n",
    "print(answer)"
   ]
  },
  {
   "cell_type": "markdown",
   "id": "d22753ee",
   "metadata": {},
   "source": [
    "### Medical terminology"
   ]
  },
  {
   "cell_type": "code",
   "execution_count": 146,
   "id": "e2d57b31",
   "metadata": {},
   "outputs": [
    {
     "name": "stdout",
     "output_type": "stream",
     "text": [
      "['<pad> vomiting</s>']\n"
     ]
    }
   ],
   "source": [
    "query = [\n",
    "    \"What does emesis mean?\"\n",
    "]\n",
    "query_input_ids = tokenizer(query, return_tensors=\"pt\").input_ids\n",
    "\n",
    "output = model.generate(input_ids = query_input_ids)\n",
    "answer = tokenizer.batch_decode(output)\n",
    "\n",
    "print(answer)"
   ]
  },
  {
   "cell_type": "code",
   "execution_count": 147,
   "id": "563fbc1c",
   "metadata": {},
   "outputs": [
    {
     "name": "stdout",
     "output_type": "stream",
     "text": [
      "['<pad> dehydration is a condition in which the body is unable to retain water.</s>']\n"
     ]
    }
   ],
   "source": [
    "query = [\n",
    "    \"What does dehydration mean?\"\n",
    "]\n",
    "query_input_ids = tokenizer(query, return_tensors=\"pt\").input_ids\n",
    "\n",
    "output = model.generate(input_ids = query_input_ids)\n",
    "answer = tokenizer.batch_decode(output)\n",
    "\n",
    "print(answer)"
   ]
  },
  {
   "cell_type": "code",
   "execution_count": 148,
   "id": "ab6f9d3a",
   "metadata": {},
   "outputs": [
    {
     "name": "stdout",
     "output_type": "stream",
     "text": [
      "['<pad> a disease or condition that causes swelling and pain</s>']\n"
     ]
    }
   ],
   "source": [
    "query = [\n",
    "    \"What does inflammation mean?\"\n",
    "]\n",
    "query_input_ids = tokenizer(query, return_tensors=\"pt\").input_ids\n",
    "\n",
    "output = model.generate(input_ids = query_input_ids)\n",
    "answer = tokenizer.batch_decode(output)\n",
    "\n",
    "print(answer)"
   ]
  },
  {
   "cell_type": "code",
   "execution_count": 150,
   "id": "b560082f",
   "metadata": {},
   "outputs": [
    {
     "name": "stdout",
     "output_type": "stream",
     "text": [
      "['<pad> a procedure in which a small camera is inserted into the joint to visualize the inside']\n"
     ]
    }
   ],
   "source": [
    "query = [\n",
    "    \"What does arthroscopy mean?\"\n",
    "]\n",
    "query_input_ids = tokenizer(query, return_tensors=\"pt\").input_ids\n",
    "\n",
    "output = model.generate(input_ids = query_input_ids)\n",
    "answer = tokenizer.batch_decode(output)\n",
    "\n",
    "print(answer)"
   ]
  },
  {
   "cell_type": "code",
   "execution_count": 149,
   "id": "025a7229",
   "metadata": {},
   "outputs": [
    {
     "name": "stdout",
     "output_type": "stream",
     "text": [
      "['<pad> anti-inflammatory</s>']\n"
     ]
    }
   ],
   "source": [
    "query = [\n",
    "    \"What does NSAID mean?\"\n",
    "]\n",
    "query_input_ids = tokenizer(query, return_tensors=\"pt\").input_ids\n",
    "\n",
    "output = model.generate(input_ids = query_input_ids)\n",
    "answer = tokenizer.batch_decode(output)\n",
    "\n",
    "print(answer)"
   ]
  },
  {
   "cell_type": "code",
   "execution_count": 152,
   "id": "0bc052ec",
   "metadata": {},
   "outputs": [
    {
     "name": "stdout",
     "output_type": "stream",
     "text": [
      "['<pad> ibuprofen</s>']\n"
     ]
    }
   ],
   "source": [
    "query = [\n",
    "    \"What is an example of an NSAID drug?\"\n",
    "]\n",
    "query_input_ids = tokenizer(query, return_tensors=\"pt\").input_ids\n",
    "\n",
    "output = model.generate(input_ids = query_input_ids)\n",
    "answer = tokenizer.batch_decode(output)\n",
    "\n",
    "print(answer)"
   ]
  },
  {
   "cell_type": "markdown",
   "id": "02fb11ab",
   "metadata": {},
   "source": [
    "## Identify drug -causes- disease relationships\n",
    "It can get these to some extent, but it is much touchier"
   ]
  },
  {
   "cell_type": "code",
   "execution_count": 105,
   "id": "f91077ad",
   "metadata": {},
   "outputs": [
    {
     "name": "stdout",
     "output_type": "stream",
     "text": [
      "['<pad> lymphoma</s>']\n"
     ]
    }
   ],
   "source": [
    "query = [\n",
    "    \"The patient had a higher risk of what after taking Methotrexate: lymphoma or fatty liver disease?\"\n",
    "]\n",
    "query_input_ids = tokenizer(query, return_tensors=\"pt\").input_ids\n",
    "\n",
    "output = model.generate(input_ids = query_input_ids)\n",
    "answer = tokenizer.batch_decode(output)\n",
    "\n",
    "print(answer)"
   ]
  },
  {
   "cell_type": "code",
   "execution_count": 104,
   "id": "4ed78c19",
   "metadata": {},
   "outputs": [
    {
     "name": "stdout",
     "output_type": "stream",
     "text": [
      "['<pad> lymphoma</s>']\n"
     ]
    }
   ],
   "source": [
    "query = [\n",
    "    \"The patient had a higher risk of what after taking Methotrexate: fatty liver disease or lymphoma?\"\n",
    "]\n",
    "query_input_ids = tokenizer(query, return_tensors=\"pt\").input_ids\n",
    "\n",
    "output = model.generate(input_ids = query_input_ids)\n",
    "answer = tokenizer.batch_decode(output)\n",
    "\n",
    "print(answer)"
   ]
  },
  {
   "cell_type": "code",
   "execution_count": 102,
   "id": "46322ff0",
   "metadata": {},
   "outputs": [
    {
     "name": "stdout",
     "output_type": "stream",
     "text": [
      "['<pad> stomach ulcers</s>']\n"
     ]
    }
   ],
   "source": [
    "query = [\n",
    "    \"The patient had a higher risk of what after taking Ibuprofen: kidney issues or stomach ulcers?\"\n",
    "]\n",
    "query_input_ids = tokenizer(query, return_tensors=\"pt\").input_ids\n",
    "\n",
    "output = model.generate(input_ids = query_input_ids)\n",
    "answer = tokenizer.batch_decode(output)\n",
    "\n",
    "print(answer)"
   ]
  },
  {
   "cell_type": "code",
   "execution_count": 103,
   "id": "0069c374",
   "metadata": {},
   "outputs": [
    {
     "name": "stdout",
     "output_type": "stream",
     "text": [
      "['<pad> stomach ulcers</s>']\n"
     ]
    }
   ],
   "source": [
    "query = [\n",
    "    \"The patient had a higher risk of what after taking Ibuprofen: stomach ulcers or kidney issues?\"\n",
    "]\n",
    "query_input_ids = tokenizer(query, return_tensors=\"pt\").input_ids\n",
    "\n",
    "output = model.generate(input_ids = query_input_ids)\n",
    "answer = tokenizer.batch_decode(output)\n",
    "\n",
    "print(answer)"
   ]
  },
  {
   "cell_type": "code",
   "execution_count": 153,
   "id": "7665bda7",
   "metadata": {},
   "outputs": [
    {
     "name": "stdout",
     "output_type": "stream",
     "text": [
      "['<pad> pulmonary disease</s>']\n"
     ]
    }
   ],
   "source": [
    "query = [\n",
    "    \"The patient had a higher risk of what after taking Antibiotics: pulmonary disease or cancer?\"\n",
    "]\n",
    "query_input_ids = tokenizer(query, return_tensors=\"pt\").input_ids\n",
    "\n",
    "output = model.generate(input_ids = query_input_ids)\n",
    "answer = tokenizer.batch_decode(output)\n",
    "\n",
    "print(answer)"
   ]
  },
  {
   "cell_type": "code",
   "execution_count": 154,
   "id": "1f2fc516",
   "metadata": {},
   "outputs": [
    {
     "name": "stdout",
     "output_type": "stream",
     "text": [
      "['<pad> pulmonary disease</s>']\n"
     ]
    }
   ],
   "source": [
    "query = [\n",
    "    \"The patient had a higher risk of what after taking Antibiotics: cancer or pulmonary disease?\"\n",
    "]\n",
    "query_input_ids = tokenizer(query, return_tensors=\"pt\").input_ids\n",
    "\n",
    "output = model.generate(input_ids = query_input_ids)\n",
    "answer = tokenizer.batch_decode(output)\n",
    "\n",
    "print(answer)"
   ]
  },
  {
   "cell_type": "markdown",
   "id": "5f9a8c15",
   "metadata": {},
   "source": [
    "### Forming a differential\n",
    "\n",
    "It only does so-so on this one."
   ]
  },
  {
   "cell_type": "markdown",
   "id": "b8a99b64",
   "metadata": {},
   "source": [
    "#### Generate an answer"
   ]
  },
  {
   "cell_type": "code",
   "execution_count": 141,
   "id": "91972396",
   "metadata": {},
   "outputs": [
    {
     "name": "stdout",
     "output_type": "stream",
     "text": [
      "['<pad> viral infection</s>']\n"
     ]
    }
   ],
   "source": [
    "query = [\n",
    "    \"What should be the diagnosis for a patient with a runny nose, body aches, fatigue, and a fever?\"\n",
    "]\n",
    "query_input_ids = tokenizer(query, return_tensors=\"pt\").input_ids\n",
    "\n",
    "output = model.generate(input_ids = query_input_ids)\n",
    "answer = tokenizer.batch_decode(output)\n",
    "\n",
    "print(answer)"
   ]
  },
  {
   "cell_type": "code",
   "execution_count": 142,
   "id": "f146f030",
   "metadata": {},
   "outputs": [
    {
     "name": "stdout",
     "output_type": "stream",
     "text": [
      "['<pad> tonsillitis</s>']\n"
     ]
    }
   ],
   "source": [
    "query = [\n",
    "    \"What should be the diagnosis for a patient with pain when swallowing, swollen tonsils, a sore throat, and petechiae?\"\n",
    "]\n",
    "query_input_ids = tokenizer(query, return_tensors=\"pt\").input_ids\n",
    "\n",
    "output = model.generate(input_ids = query_input_ids)\n",
    "answer = tokenizer.batch_decode(output)\n",
    "\n",
    "print(answer)"
   ]
  },
  {
   "cell_type": "code",
   "execution_count": 144,
   "id": "2fd11564",
   "metadata": {},
   "outputs": [
    {
     "name": "stdout",
     "output_type": "stream",
     "text": [
      "['<pad> a viral infection</s>']\n"
     ]
    }
   ],
   "source": [
    "query = [\n",
    "    \"What should be the diagnosis for a patient with sudden, severe nausea and vomiting?\"\n",
    "]\n",
    "query_input_ids = tokenizer(query, return_tensors=\"pt\").input_ids\n",
    "\n",
    "output = model.generate(input_ids = query_input_ids)\n",
    "answer = tokenizer.batch_decode(output)\n",
    "\n",
    "print(answer)"
   ]
  },
  {
   "cell_type": "markdown",
   "id": "8d809b82",
   "metadata": {},
   "source": [
    "#### Select an option"
   ]
  },
  {
   "cell_type": "code",
   "execution_count": 136,
   "id": "ed63289c",
   "metadata": {},
   "outputs": [
    {
     "name": "stdout",
     "output_type": "stream",
     "text": [
      "['<pad> meningitis</s>']\n"
     ]
    }
   ],
   "source": [
    "query = [\n",
    "    \"What should be the diagnosis for a patient with a runny nose, body aches, vomiting, and a fever? \"\n",
    "    \"meningitis or the flu?\"\n",
    "]\n",
    "query_input_ids = tokenizer(query, return_tensors=\"pt\").input_ids\n",
    "\n",
    "output = model.generate(input_ids = query_input_ids)\n",
    "answer = tokenizer.batch_decode(output)\n",
    "\n",
    "print(answer)"
   ]
  },
  {
   "cell_type": "code",
   "execution_count": 131,
   "id": "1b9fd367",
   "metadata": {},
   "outputs": [
    {
     "name": "stdout",
     "output_type": "stream",
     "text": [
      "['<pad> the flu</s>']\n"
     ]
    }
   ],
   "source": [
    "query = [\n",
    "    \"What is more likely for a patient with a runny nose, body aches, vomiting, and a fever? \"\n",
    "    \"the flu or meningitis?\"\n",
    "]\n",
    "query_input_ids = tokenizer(query, return_tensors=\"pt\").input_ids\n",
    "\n",
    "output = model.generate(input_ids = query_input_ids)\n",
    "answer = tokenizer.batch_decode(output)\n",
    "\n",
    "print(answer)"
   ]
  },
  {
   "cell_type": "code",
   "execution_count": 127,
   "id": "b2618e87",
   "metadata": {},
   "outputs": [
    {
     "name": "stdout",
     "output_type": "stream",
     "text": [
      "['<pad> strep throat</s>']\n"
     ]
    }
   ],
   "source": [
    "query = [\n",
    "    \"What is more likely for a patient with pain when swallowing, swollen tonsils, a sore throat, and petechiae? \"\n",
    "    \"strep throat or the flu?\"\n",
    "]\n",
    "query_input_ids = tokenizer(query, return_tensors=\"pt\").input_ids\n",
    "\n",
    "output = model.generate(input_ids = query_input_ids)\n",
    "answer = tokenizer.batch_decode(output)\n",
    "\n",
    "print(answer)"
   ]
  },
  {
   "cell_type": "code",
   "execution_count": 128,
   "id": "d5ad858f",
   "metadata": {},
   "outputs": [
    {
     "name": "stdout",
     "output_type": "stream",
     "text": [
      "['<pad> strep throat</s>']\n"
     ]
    }
   ],
   "source": [
    "query = [\n",
    "    \"What is more likely for a patient with pain when swallowing, a swollen tonsils, a sore throat, and petechiae? \"\n",
    "    \"the flu or strep throat?\"\n",
    "]\n",
    "query_input_ids = tokenizer(query, return_tensors=\"pt\").input_ids\n",
    "\n",
    "output = model.generate(input_ids = query_input_ids)\n",
    "answer = tokenizer.batch_decode(output)\n",
    "\n",
    "print(answer)"
   ]
  },
  {
   "cell_type": "code",
   "execution_count": 129,
   "id": "9d05bd33",
   "metadata": {},
   "outputs": [
    {
     "name": "stdout",
     "output_type": "stream",
     "text": [
      "['<pad> meningitis</s>']\n"
     ]
    }
   ],
   "source": [
    "query = [\n",
    "    \"What is more likely for a patient with a stiff neck and a high fever? \"\n",
    "    \"meningitis or strep throat?\"\n",
    "]\n",
    "query_input_ids = tokenizer(query, return_tensors=\"pt\").input_ids\n",
    "\n",
    "output = model.generate(input_ids = query_input_ids)\n",
    "answer = tokenizer.batch_decode(output)\n",
    "\n",
    "print(answer)"
   ]
  },
  {
   "cell_type": "code",
   "execution_count": 130,
   "id": "a887197c",
   "metadata": {},
   "outputs": [
    {
     "name": "stdout",
     "output_type": "stream",
     "text": [
      "['<pad> meningitis</s>']\n"
     ]
    }
   ],
   "source": [
    "query = [\n",
    "    \"What should be in my differential for a patient with a stiff neck and a high fever? \"\n",
    "    \"strep throat or meningitis?\"\n",
    "]\n",
    "query_input_ids = tokenizer(query, return_tensors=\"pt\").input_ids\n",
    "\n",
    "output = model.generate(input_ids = query_input_ids)\n",
    "answer = tokenizer.batch_decode(output)\n",
    "\n",
    "print(answer)"
   ]
  },
  {
   "cell_type": "markdown",
   "id": "a79c4543",
   "metadata": {},
   "source": [
    "# What can't it do reliably?"
   ]
  },
  {
   "cell_type": "markdown",
   "id": "eb57a2df",
   "metadata": {},
   "source": [
    "## Identify Medication Side Effects\n",
    "Often, but not universal"
   ]
  },
  {
   "cell_type": "markdown",
   "id": "a33132e1",
   "metadata": {},
   "source": [
    "#### Got it:"
   ]
  },
  {
   "cell_type": "code",
   "execution_count": 55,
   "id": "183c1a36",
   "metadata": {},
   "outputs": [
    {
     "name": "stdout",
     "output_type": "stream",
     "text": [
      "['<pad> dry mouth</s>']\n"
     ]
    }
   ],
   "source": [
    "query = [\n",
    "    \"The patient had what side effect from taking ativan: dry mouth or blurred vision?\"\n",
    "]\n",
    "query_input_ids = tokenizer(query, return_tensors=\"pt\").input_ids\n",
    "\n",
    "output = model.generate(input_ids = query_input_ids)\n",
    "answer = tokenizer.batch_decode(output)\n",
    "\n",
    "print(answer)"
   ]
  },
  {
   "cell_type": "code",
   "execution_count": 56,
   "id": "6255045c",
   "metadata": {},
   "outputs": [
    {
     "name": "stdout",
     "output_type": "stream",
     "text": [
      "['<pad> blurred vision</s>']\n"
     ]
    }
   ],
   "source": [
    "query = [\n",
    "    \"The patient had what side effect from taking ativan: sneezing or blurred vision?\"\n",
    "]\n",
    "query_input_ids = tokenizer(query, return_tensors=\"pt\").input_ids\n",
    "\n",
    "output = model.generate(input_ids = query_input_ids)\n",
    "answer = tokenizer.batch_decode(output)\n",
    "\n",
    "print(answer)"
   ]
  },
  {
   "cell_type": "markdown",
   "id": "ecf98432",
   "metadata": {},
   "source": [
    "#### Didn't get it"
   ]
  },
  {
   "cell_type": "code",
   "execution_count": 49,
   "id": "a2baf91a",
   "metadata": {},
   "outputs": [
    {
     "name": "stdout",
     "output_type": "stream",
     "text": [
      "['<pad> hot flashes</s>']\n"
     ]
    }
   ],
   "source": [
    "query = [\n",
    "    \"The patient had what side effect from taking methotrexate: swollen gums or hot flashes?\"\n",
    "]\n",
    "query_input_ids = tokenizer(query, return_tensors=\"pt\").input_ids\n",
    "\n",
    "output = model.generate(input_ids = query_input_ids)\n",
    "answer = tokenizer.batch_decode(output)\n",
    "\n",
    "print(answer)"
   ]
  },
  {
   "cell_type": "code",
   "execution_count": 52,
   "id": "df873edd",
   "metadata": {},
   "outputs": [
    {
     "name": "stdout",
     "output_type": "stream",
     "text": [
      "['<pad> diarrhea</s>']\n"
     ]
    }
   ],
   "source": [
    "query = [\n",
    "    \"The patient had what side effect from taking methotrexate: diarrhea or swollen gums?\"\n",
    "]\n",
    "query_input_ids = tokenizer(query, return_tensors=\"pt\").input_ids\n",
    "\n",
    "output = model.generate(input_ids = query_input_ids)\n",
    "answer = tokenizer.batch_decode(output)\n",
    "\n",
    "print(answer)"
   ]
  },
  {
   "cell_type": "code",
   "execution_count": 42,
   "id": "db3c2839",
   "metadata": {},
   "outputs": [
    {
     "name": "stdout",
     "output_type": "stream",
     "text": [
      "['<pad> sneezing</s>']\n"
     ]
    }
   ],
   "source": [
    "query = [\n",
    "    \"The patient had what side effect from taking Simponi: sneezing or blurred vision?\"\n",
    "]\n",
    "query_input_ids = tokenizer(query, return_tensors=\"pt\").input_ids\n",
    "\n",
    "output = model.generate(input_ids = query_input_ids)\n",
    "answer = tokenizer.batch_decode(output)\n",
    "\n",
    "print(answer)"
   ]
  },
  {
   "cell_type": "code",
   "execution_count": 54,
   "id": "b4d790e8",
   "metadata": {},
   "outputs": [
    {
     "name": "stdout",
     "output_type": "stream",
     "text": [
      "['<pad> blurred vision</s>']\n"
     ]
    }
   ],
   "source": [
    "query = [\n",
    "    \"The patient had what side effect from taking Simponi: blurred vision or sneezing?\"\n",
    "]\n",
    "query_input_ids = tokenizer(query, return_tensors=\"pt\").input_ids\n",
    "\n",
    "output = model.generate(input_ids = query_input_ids)\n",
    "answer = tokenizer.batch_decode(output)\n",
    "\n",
    "print(answer)"
   ]
  },
  {
   "cell_type": "markdown",
   "id": "981cfef5",
   "metadata": {},
   "source": [
    "## Identify common disease comorbidities"
   ]
  },
  {
   "cell_type": "code",
   "execution_count": 33,
   "id": "dbc63bd5",
   "metadata": {},
   "outputs": [
    {
     "name": "stdout",
     "output_type": "stream",
     "text": [
      "['<pad> chronic kidney disease</s>']\n"
     ]
    }
   ],
   "source": [
    "query = [\n",
    "    \"What disease is a patient with diabetes more likely to have? chronic kidney disease or irritable bowel disease?\"\n",
    "]\n",
    "query_input_ids = tokenizer(query, return_tensors=\"pt\").input_ids\n",
    "\n",
    "output = model.generate(input_ids = query_input_ids)\n",
    "answer = tokenizer.batch_decode(output)\n",
    "\n",
    "print(answer)"
   ]
  },
  {
   "cell_type": "code",
   "execution_count": 35,
   "id": "88a27764",
   "metadata": {},
   "outputs": [
    {
     "name": "stdout",
     "output_type": "stream",
     "text": [
      "['<pad> chronic kidney disease</s>']\n"
     ]
    }
   ],
   "source": [
    "query = [\n",
    "    \"What disease is a patient with arthritis more likely to have? chronic kidney disease or irritable bowel disease?\"\n",
    "]\n",
    "query_input_ids = tokenizer(query, return_tensors=\"pt\").input_ids\n",
    "\n",
    "output = model.generate(input_ids = query_input_ids)\n",
    "answer = tokenizer.batch_decode(output)\n",
    "\n",
    "print(answer)"
   ]
  },
  {
   "cell_type": "markdown",
   "id": "44930ba9",
   "metadata": {},
   "source": [
    "## Compound reasoning"
   ]
  },
  {
   "cell_type": "code",
   "execution_count": 13,
   "id": "bd1f153b",
   "metadata": {},
   "outputs": [
    {
     "name": "stdout",
     "output_type": "stream",
     "text": [
      "['<pad> Tylenol</s>']\n"
     ]
    }
   ],
   "source": [
    "query = [\n",
    "    \"What medication should I take if I have a headache but don't want to get drowsy? Tylenol, Advil, Pepto-bismol, or Motrin?\"\n",
    "]\n",
    "query_input_ids = tokenizer(query, return_tensors=\"pt\").input_ids\n",
    "\n",
    "output = model.generate(input_ids = query_input_ids)\n",
    "answer = tokenizer.batch_decode(output)\n",
    "\n",
    "print(answer)"
   ]
  },
  {
   "cell_type": "code",
   "execution_count": 14,
   "id": "d2ceebb4",
   "metadata": {},
   "outputs": [
    {
     "name": "stdout",
     "output_type": "stream",
     "text": [
      "['<pad> Advil</s>']\n"
     ]
    }
   ],
   "source": [
    "query = [\n",
    "    \"What medication should I take if I have a headache but don't want to get jaundice? Tylenol, Advil, Pepto-bismol, or Motrin?\"\n",
    "]\n",
    "query_input_ids = tokenizer(query, return_tensors=\"pt\").input_ids\n",
    "\n",
    "output = model.generate(input_ids = query_input_ids)\n",
    "answer = tokenizer.batch_decode(output)\n",
    "\n",
    "print(answer)"
   ]
  },
  {
   "cell_type": "code",
   "execution_count": 21,
   "id": "94924ccb",
   "metadata": {},
   "outputs": [
    {
     "name": "stdout",
     "output_type": "stream",
     "text": [
      "['<pad> Immodium</s>']\n"
     ]
    }
   ],
   "source": [
    "query = [\n",
    "    \"What medication should I take if I have diarrhea but don't want to get nauesa? Tylenol, Advil, Pepto-bismol, or Immodium?\"\n",
    "]\n",
    "query_input_ids = tokenizer(query, return_tensors=\"pt\").input_ids\n",
    "\n",
    "output = model.generate(input_ids = query_input_ids)\n",
    "answer = tokenizer.batch_decode(output)\n",
    "\n",
    "print(answer)"
   ]
  },
  {
   "cell_type": "code",
   "execution_count": 24,
   "id": "58fa7c70",
   "metadata": {},
   "outputs": [
    {
     "name": "stdout",
     "output_type": "stream",
     "text": [
      "['<pad> Immodium</s>']\n"
     ]
    }
   ],
   "source": [
    "query = [\n",
    "    \"What medication should I take if I have diarrhea but no stomach pain? Tylenol, Advil, Pepto-bismol, or Immodium?\"\n",
    "]\n",
    "query_input_ids = tokenizer(query, return_tensors=\"pt\").input_ids\n",
    "\n",
    "output = model.generate(input_ids = query_input_ids)\n",
    "answer = tokenizer.batch_decode(output)\n",
    "\n",
    "print(answer)"
   ]
  },
  {
   "cell_type": "code",
   "execution_count": 22,
   "id": "5da0a2f3",
   "metadata": {},
   "outputs": [
    {
     "name": "stdout",
     "output_type": "stream",
     "text": [
      "['<pad> Pepto-bismol</s>']\n"
     ]
    }
   ],
   "source": [
    "query = [\n",
    "    \"What medication should I take if I have a stomach-ache but no diarrhea? Tylenol, Advil, Pepto-bismol, or Immodium?\"\n",
    "]\n",
    "query_input_ids = tokenizer(query, return_tensors=\"pt\").input_ids\n",
    "\n",
    "output = model.generate(input_ids = query_input_ids)\n",
    "answer = tokenizer.batch_decode(output)\n",
    "\n",
    "print(answer)"
   ]
  },
  {
   "cell_type": "code",
   "execution_count": 30,
   "id": "7654d1b3",
   "metadata": {},
   "outputs": [
    {
     "name": "stdout",
     "output_type": "stream",
     "text": [
      "['<pad> Tylenol</s>']\n"
     ]
    }
   ],
   "source": [
    "query = [\n",
    "    \"What medication should I take if I have a fever but no headache? Tylenol, Aspirin, Pepto-bismol, or Immodium?\"\n",
    "]\n",
    "query_input_ids = tokenizer(query, return_tensors=\"pt\").input_ids\n",
    "\n",
    "output = model.generate(input_ids = query_input_ids)\n",
    "answer = tokenizer.batch_decode(output)\n",
    "\n",
    "print(answer)"
   ]
  },
  {
   "cell_type": "code",
   "execution_count": 29,
   "id": "37d21ac6",
   "metadata": {},
   "outputs": [
    {
     "name": "stdout",
     "output_type": "stream",
     "text": [
      "['<pad> Tylenol</s>']\n"
     ]
    }
   ],
   "source": [
    "query = [\n",
    "    \"What medication should I take if I have a headache but no fever? Tylenol, Aspirin, Pepto-bismol, or Immodium?\"\n",
    "]\n",
    "query_input_ids = tokenizer(query, return_tensors=\"pt\").input_ids\n",
    "\n",
    "output = model.generate(input_ids = query_input_ids)\n",
    "answer = tokenizer.batch_decode(output)\n",
    "\n",
    "print(answer)"
   ]
  }
 ],
 "metadata": {
  "kernelspec": {
   "display_name": "Python 3 (ipykernel)",
   "language": "python",
   "name": "python3"
  },
  "language_info": {
   "codemirror_mode": {
    "name": "ipython",
    "version": 3
   },
   "file_extension": ".py",
   "mimetype": "text/x-python",
   "name": "python",
   "nbconvert_exporter": "python",
   "pygments_lexer": "ipython3",
   "version": "3.10.4"
  }
 },
 "nbformat": 4,
 "nbformat_minor": 5
}
